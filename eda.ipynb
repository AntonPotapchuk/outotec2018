{
 "cells": [
  {
   "cell_type": "code",
   "execution_count": 1,
   "metadata": {},
   "outputs": [],
   "source": [
    "import datetime\n",
    "import gc\n",
    "import json\n",
    "import os\n",
    "import numpy as np\n",
    "import pandas as pd\n",
    "import lightgbm as lgb\n",
    "import wave\n",
    "import struct\n",
    "\n",
    "from pykalman import KalmanFilter\n",
    "from matplotlib import pyplot as plt\n",
    "from tqdm import tqdm_notebook as tqdm\n",
    "from sklearn.decomposition import PCA\n",
    "from sklearn.preprocessing import LabelEncoder\n",
    "from sklearn.metrics import accuracy_score\n",
    "from sklearn.model_selection import KFold, train_test_split, ParameterGrid\n",
    "\n",
    "%matplotlib inline"
   ]
  },
  {
   "cell_type": "code",
   "execution_count": 2,
   "metadata": {},
   "outputs": [],
   "source": [
    "import warnings\n",
    "warnings.filterwarnings(\"ignore\", category=DeprecationWarning)\n",
    "\n",
    "plt.rcParams['figure.figsize'] = (8, 6)"
   ]
  },
  {
   "cell_type": "code",
   "execution_count": 3,
   "metadata": {},
   "outputs": [],
   "source": [
    "DATA_PATH = \"C:/IHearVoicesData/\"\n",
    "MOTION_DIR = os.path.join(DATA_PATH, 'Motion')\n",
    "AUDIO_DIR = os.path.join(DATA_PATH, 'Audio')\n",
    "\n",
    "LAG_THRESHOLD = 3000\n",
    "NUM_FFTS = 10\n",
    "AUDIO_FREQ = 44000\n",
    "RANDOM_STATE = 1234"
   ]
  },
  {
   "cell_type": "code",
   "execution_count": 4,
   "metadata": {},
   "outputs": [],
   "source": [
    "label_df = pd.read_excel('C:/IHearVoicesData/IHearVoicesDataPrep.xlsx', header=1)\n",
    "label_df = label_df.iloc[:,:8]\n",
    "label_df = label_df[:29]\n",
    "label_df = label_df.drop(columns=['Date', 'Date.1', 'Time', 'Time.1'])\n",
    "label_df = label_df.reset_index(drop=True)\n",
    "label_df.columns = ['status', 'start', 'stop', 'hours']"
   ]
  },
  {
   "cell_type": "code",
   "execution_count": 5,
   "metadata": {},
   "outputs": [],
   "source": [
    "def audio_fname_to_date(fname):\n",
    "    date = fname.replace('.wav', '').replace('device1_channel1_', '')\n",
    "    year = int(date[:4])\n",
    "    month = int(date[4:6])\n",
    "    day = int(date[6:8])\n",
    "    hour = int(date[8:10])\n",
    "    minute = int(date[10:12])\n",
    "    second = int(date[12:14])\n",
    "    date = datetime.datetime(year=year, month=month, day=day, hour=hour, minute=minute, second=second)\n",
    "    return date\n",
    "\n",
    "\n",
    "def get_files(audio_dir, min_date, max_date):\n",
    "    res = []\n",
    "    for fname in os.listdir(audio_dir):\n",
    "        date = audio_fname_to_date(fname)\n",
    "        if date > max_date:\n",
    "            continue\n",
    "        if date < min_date and (min_date - date).seconds / 3600 > 0.33:\n",
    "            continue\n",
    "        res.append(fname)\n",
    "    return res\n",
    "\n",
    "\n",
    "def load_audio_data(path):\n",
    "    f = wave.open(path)\n",
    "    dur = f.getnframes()\n",
    "    sampwidth = f.getsampwidth()\n",
    "    fmt = '=' + 'h' * (dur)\n",
    "    data = f.readframes(dur)\n",
    "    data = np.array(struct.unpack(fmt, data))\n",
    "    return data\n",
    "\n",
    "\n",
    "def process_audio_data(fname):\n",
    "    audio_data = load_audio_data(os.path.join(AUDIO_DIR, fname))\n",
    "    cur_date = audio_fname_to_date(fname)\n",
    "    total_seconds = len(audio_data) // AUDIO_FREQ\n",
    "    times = []\n",
    "    for i in range(total_seconds + 1):\n",
    "        times.extend([cur_date + datetime.timedelta(seconds=i)] * AUDIO_FREQ)\n",
    "    times = times[:len(audio_data)]\n",
    "    df = pd.DataFrame({'timestamp': times, 'audio': audio_data})\n",
    "    df['timestamp'] = df['timestamp'].dt.floor(freq='min')\n",
    "    df = df.groupby('timestamp').agg(['max', 'min', 'mean', 'median', \n",
    "                                      agg_quantile(0.25), agg_quantile(0.75), agg_power])\n",
    "    df.columns = ['_'.join(col) for col in df.columns]\n",
    "    return df\n",
    "\n",
    "\n",
    "def get_audio_data(min_date, max_date):\n",
    "    files = get_files(AUDIO_DIR, min_date, max_date)\n",
    "    result_df = []\n",
    "    for fname in files:\n",
    "        result_df.append(process_audio_data(fname))\n",
    "    pd.concat(result_df)\n",
    "    return result_df\n",
    "\n",
    "\n",
    "def load_motion_dataset(path):\n",
    "    dataset = []\n",
    "    for fname in os.listdir(path):\n",
    "        df = get_motion_df(os.path.join(MOTION_DIR, fname))\n",
    "        dataset.append(df)\n",
    "    dataset = pd.concat(dataset)\n",
    "    return dataset\n",
    "\n",
    "\n",
    "def fname_to_date(fname):\n",
    "    date = fname.replace('.json', '')\n",
    "    year = int(date[:4])\n",
    "    month = int(date[4:6])\n",
    "    day = int(date[6:8])\n",
    "    hour = int(date[9:11])\n",
    "    date = datetime.datetime(year=year, month=month, day=day, hour=hour)\n",
    "    return date\n",
    "\n",
    "\n",
    "def timestamp_to_date(ts):\n",
    "    return datetime.datetime.utcfromtimestamp(ts / 1000)\n",
    "\n",
    "\n",
    "def agg_fft(series):\n",
    "    skip_columns = ['timestamp', 'variable']\n",
    "    \n",
    "    result = []\n",
    "    for column in series.columns:\n",
    "        if column in skip_columns:\n",
    "            continue\n",
    "\n",
    "        ffts = np.abs(np.fft.fft(series[column]))[:NUM_FFTS]\n",
    "        cols = ['%s_fft%d' % (column, i) for i in range(NUM_FFTS)]\n",
    "        res = pd.Series(ffts, index=cols)\n",
    "        result.append(res)\n",
    "    result = pd.concat(result)\n",
    "    return result\n",
    "\n",
    "\n",
    "def agg_quantile(n):\n",
    "    def quantile_(x):\n",
    "        return np.quantile(x, n)\n",
    "    quantile_.__name__ = 'quantile_%s' % n\n",
    "    return quantile_\n",
    "\n",
    "\n",
    "def agg_power(series):\n",
    "    return (np.sum(series**2) / len(series))**0.5\n",
    "agg_power.__name__ = 'power'\n",
    "\n",
    "\n",
    "\n",
    "def get_motion_df(path):\n",
    "    data = json.load(open(path, 'r'))['data']\n",
    "    \n",
    "    acc_df = []\n",
    "    quat_df = []\n",
    "    for row in data:\n",
    "        d_row = {}\n",
    "        event = row['event']\n",
    "        content = event['content']\n",
    "        variable = event['variable']\n",
    "\n",
    "        d_row['timestamp'] = timestamp_to_date(row['timestamp'])\n",
    "        d_row['variable'] = variable.replace('.acceleration', '') \\\n",
    "                                    .replace('.quaternion', '') \\\n",
    "                                    .replace('.batter', '')\n",
    "\n",
    "        if 'acceleration' in variable:\n",
    "            if len(content) != 4:\n",
    "                print('FUCK acceleration')     \n",
    "            d_row['x'] = content[0]\n",
    "            d_row['y'] = content[1]\n",
    "            d_row['z'] = content[2]\n",
    "            # d_row['acc_shit'] = content[3]\n",
    "            acc_df.append(d_row)\n",
    "        elif 'quaternion' in variable:\n",
    "            if len(content) != 5:\n",
    "                print('FUCK quaternion')\n",
    "            d_row['q1'] = content[0]\n",
    "            d_row['q2'] = content[1]\n",
    "            d_row['q3'] = content[2]\n",
    "            d_row['q4'] = content[3]\n",
    "            # d_row['q_shit'] = content[4]\n",
    "            quat_df.append(d_row)    \n",
    "        elif 'battery' in variable:\n",
    "            continue\n",
    "        else:\n",
    "            print(\"FUCK else\")\n",
    "        \n",
    "    acc_df = pd.DataFrame.from_dict(acc_df)\n",
    "    quat_df = pd.DataFrame.from_dict(quat_df)\n",
    "    return acc_df, quat_df\n",
    "\n",
    "\n",
    "def generate_features(df, freq='15S'):\n",
    "    df['timestamp'] = df['timestamp'].dt.floor(freq=freq)\n",
    "    fft_df = df.groupby(['variable', 'timestamp']).apply(agg_fft)\n",
    "    agg_df = df.groupby(['variable', 'timestamp']).agg(['min', 'max', 'mean', 'std', 'median', agg_power,\n",
    "                                                       agg_quantile(0.05),\n",
    "                                                       agg_quantile(0.25),\n",
    "                                                       agg_quantile(0.75),\n",
    "                                                       agg_quantile(0.95),\n",
    "                                                       agg_quantile(0.99)])\n",
    "    agg_df = agg_df.join(fft_df)\n",
    "    agg_df.columns = [column if type(column) is str else '_'.join(column) for column in agg_df.columns]\n",
    "    return agg_df\n",
    "\n",
    "\n",
    "def add_labels(df, label_df):\n",
    "    df['status'] = 'unk'\n",
    "    df = df.reset_index()\n",
    "    min_t = df.timestamp.min()\n",
    "    max_t = df.timestamp.max()\n",
    "    for i, row in label_df.iterrows():                \n",
    "        df.loc[(df['timestamp'] >= row['start']) &\n",
    "               (df['timestamp'] <= row['stop']), 'status'] = row['status']\n",
    "    return df\n",
    "\n",
    "\n",
    "def status_to_color(status):\n",
    "    if status == 'Good':\n",
    "        return 'green'\n",
    "    if status == 'Stopped':\n",
    "        return 'yellow'\n",
    "    if status == 'Failure':\n",
    "        return 'red'\n",
    "    raise Exception(\"Unknown status\")\n",
    "    \n",
    "    \n",
    "def filter_unk_status(df):\n",
    "    df = df[df['status'] != 'unk']\n",
    "    return df.reset_index(drop=True)\n",
    "\n",
    "\n",
    "def get_dataset(data_path, label_df, start_file_date=None, end_file_date=None, extract_features=True):\n",
    "    result_acc = []\n",
    "    result_quat = []\n",
    "    for fname in tqdm(os.listdir(data_path), total=len(os.listdir(data_path))):\n",
    "        date = fname_to_date(fname)\n",
    "        if start_file_date is not None and date < start_file_date:\n",
    "            continue\n",
    "        if end_file_date is not None and date > end_file_date:\n",
    "            break\n",
    "        label_ind = None\n",
    "        for i, row in label_df.iterrows():\n",
    "            if date >= row['start'] and date <= row['stop']:\n",
    "                label_ind = i\n",
    "                break\n",
    "        if label_ind == None:\n",
    "            continue\n",
    "        acc_df, quat_df = get_motion_df(os.path.join(data_path, fname))\n",
    "        if extract_features:\n",
    "            acc_df = generate_features(acc_df)\n",
    "            quat_df = generate_features(quat_df)\n",
    "        \n",
    "        acc_df = add_labels(acc_df, label_df)\n",
    "        quat_df = add_labels(quat_df, label_df)\n",
    "        \n",
    "        acc_df = filter_unk_status(acc_df)\n",
    "        quat_df = filter_unk_status(quat_df)\n",
    "        \n",
    "        result_acc.append(acc_df)\n",
    "        result_quat.append(quat_df)\n",
    "        \n",
    "    result_acc = pd.concat(result_acc)\n",
    "    result_quat = pd.concat(result_quat)\n",
    "        \n",
    "    pepa_acc_df, salt_acc_df = split_by_device(result_acc)\n",
    "    pepa_quat_df, salt_quat_df = split_by_device(result_quat)\n",
    "    \n",
    "    pepa_acc_df = pepa_acc_df.set_index(['timestamp', 'status'])\n",
    "    pepa_quat_df = pepa_quat_df.set_index(['timestamp', 'status'])\n",
    "    salt_acc_df = salt_acc_df.set_index(['timestamp', 'status'])\n",
    "    salt_quat_df = salt_quat_df.set_index(['timestamp', 'status'])\n",
    "\n",
    "    pepa_acc_df = pepa_acc_df.drop(columns='variable')\n",
    "    pepa_quat_df = pepa_quat_df.drop(columns='variable')\n",
    "    salt_acc_df = salt_acc_df.drop(columns='variable')\n",
    "    salt_quat_df = salt_quat_df.drop(columns='variable')\n",
    "    \n",
    "    full_df = pepa_acc_df.join(pepa_quat_df, lsuffix='_pepa_acc', rsuffix='_pepa_quat') \\\n",
    "                     .join(salt_acc_df, rsuffix='_salt_acc') \\\n",
    "                     .join(salt_quat_df, rsuffix='_salt_quat')\n",
    "    full_df = full_df.reset_index()\n",
    "    full_df.loc[full_df['status']=='Stopped', 'status'] = 'Good'\n",
    "    \n",
    "    # TODO: AUDIO       \n",
    "    return full_df\n",
    "\n",
    "\n",
    "def split_by_device(df):\n",
    "    pepa_df = df[df['variable'] == 'NGIMU-PEPA']\n",
    "    salt_df = df[df['variable'] == 'NGIMU-SALT']\n",
    "    return pepa_df, salt_df"
   ]
  },
  {
   "cell_type": "code",
   "execution_count": 6,
   "metadata": {},
   "outputs": [],
   "source": [
    "# start_date = datetime.datetime(year=2018, month=10, day=20, hour=23)\n",
    "# end_date = datetime.datetime(year=2018, month=10, day=26, hour=10)\n",
    "# full_df = get_dataset(MOTION_DIR, label_df, start_file_date=start_date, end_file_date=end_date)\n",
    "# full_df.to_csv(\"full_df.csv\", index=False)"
   ]
  },
  {
   "cell_type": "code",
   "execution_count": 7,
   "metadata": {},
   "outputs": [],
   "source": [
    "full_df = pd.read_csv('full_df_15s.csv', parse_dates=[0])"
   ]
  },
  {
   "cell_type": "code",
   "execution_count": 8,
   "metadata": {},
   "outputs": [],
   "source": [
    "full_df = full_df.loc[2000:]\n",
    "# full_df = pd.concat([full_df[:2600], full_df[:3400]])"
   ]
  },
  {
   "cell_type": "code",
   "execution_count": 9,
   "metadata": {},
   "outputs": [],
   "source": [
    "encoder = LabelEncoder()\n",
    "full_df['status'] = encoder.fit_transform(full_df['status'])\n",
    "X = full_df.iloc[:,2:]\n",
    "y = full_df['status']"
   ]
  },
  {
   "cell_type": "code",
   "execution_count": 10,
   "metadata": {
    "scrolled": false
   },
   "outputs": [
    {
     "name": "stdout",
     "output_type": "stream",
     "text": [
      "Fold 1\n"
     ]
    },
    {
     "data": {
      "application/vnd.jupyter.widget-view+json": {
       "model_id": "50a749480ace4696b5bdb220aec2043a",
       "version_major": 2,
       "version_minor": 0
      },
      "text/plain": [
       "HBox(children=(IntProgress(value=0, max=72), HTML(value='')))"
      ]
     },
     "metadata": {},
     "output_type": "display_data"
    },
    {
     "name": "stdout",
     "output_type": "stream",
     "text": [
      "\n",
      "{'train_acc': 0.8533042157235093, 'val_acc': 0.6547992025064084, 'test_acc': 0.7684420393050413, 'params': {'boosting_type': 'gbdt', 'class_weight': 'balanced', 'colsample_bytree': 1.0, 'importance_type': 'split', 'learning_rate': 0.005, 'max_depth': -1, 'min_child_samples': 20, 'min_child_weight': 0.001, 'min_split_gain': 0.0, 'n_estimators': 150, 'n_jobs': -1, 'num_leaves': 8, 'objective': 'binary', 'random_state': 1234, 'reg_alpha': 0, 'reg_lambda': 1, 'silent': True, 'subsample': 1.0, 'subsample_for_bin': 200000, 'subsample_freq': 0}}\n",
      "Fold 2\n"
     ]
    },
    {
     "data": {
      "application/vnd.jupyter.widget-view+json": {
       "model_id": "08e13c95606f47cfbc127d7e480dff20",
       "version_major": 2,
       "version_minor": 0
      },
      "text/plain": [
       "HBox(children=(IntProgress(value=0, max=72), HTML(value='')))"
      ]
     },
     "metadata": {},
     "output_type": "display_data"
    },
    {
     "name": "stdout",
     "output_type": "stream",
     "text": [
      "\n",
      "{'train_acc': 0.9099886061526775, 'val_acc': 0.707490743377955, 'test_acc': 0.5804614070065508, 'params': {'boosting_type': 'gbdt', 'class_weight': 'balanced', 'colsample_bytree': 1.0, 'importance_type': 'split', 'learning_rate': 0.001, 'max_depth': -1, 'min_child_samples': 20, 'min_child_weight': 0.001, 'min_split_gain': 0.0, 'n_estimators': 150, 'n_jobs': -1, 'num_leaves': 16, 'objective': 'binary', 'random_state': 1234, 'reg_alpha': 0, 'reg_lambda': 1, 'silent': True, 'subsample': 1.0, 'subsample_for_bin': 200000, 'subsample_freq': 0}}\n",
      "Fold 3\n"
     ]
    },
    {
     "data": {
      "application/vnd.jupyter.widget-view+json": {
       "model_id": "38f28963425c417d863d66c95f957975",
       "version_major": 2,
       "version_minor": 0
      },
      "text/plain": [
       "HBox(children=(IntProgress(value=0, max=72), HTML(value='')))"
      ]
     },
     "metadata": {},
     "output_type": "display_data"
    },
    {
     "name": "stdout",
     "output_type": "stream",
     "text": [
      "\n",
      "{'train_acc': 0.8069692366122294, 'val_acc': 0.6425519794930219, 'test_acc': 0.5787524921674737, 'params': {'boosting_type': 'gbdt', 'class_weight': 'balanced', 'colsample_bytree': 1.0, 'importance_type': 'split', 'learning_rate': 0.001, 'max_depth': -1, 'min_child_samples': 20, 'min_child_weight': 0.001, 'min_split_gain': 0.0, 'n_estimators': 50, 'n_jobs': -1, 'num_leaves': 8, 'objective': 'binary', 'random_state': 1234, 'reg_alpha': 0, 'reg_lambda': 0, 'silent': True, 'subsample': 1.0, 'subsample_for_bin': 200000, 'subsample_freq': 0}}\n",
      "Fold 4\n"
     ]
    },
    {
     "data": {
      "application/vnd.jupyter.widget-view+json": {
       "model_id": "b77aa222f52345f5888180d908702535",
       "version_major": 2,
       "version_minor": 0
      },
      "text/plain": [
       "HBox(children=(IntProgress(value=0, max=72), HTML(value='')))"
      ]
     },
     "metadata": {},
     "output_type": "display_data"
    },
    {
     "name": "stdout",
     "output_type": "stream",
     "text": [
      "\n",
      "{'train_acc': 0.7232244587922522, 'val_acc': 0.6516661919681003, 'test_acc': 0.8333808031899743, 'params': {'boosting_type': 'gbdt', 'class_weight': 'balanced', 'colsample_bytree': 1.0, 'importance_type': 'split', 'learning_rate': 0.001, 'max_depth': -1, 'min_child_samples': 20, 'min_child_weight': 0.001, 'min_split_gain': 0.0, 'n_estimators': 50, 'n_jobs': -1, 'num_leaves': 6, 'objective': 'binary', 'random_state': 1234, 'reg_alpha': 0, 'reg_lambda': 0, 'silent': True, 'subsample': 1.0, 'subsample_for_bin': 200000, 'subsample_freq': 0}}\n",
      "Fold 5\n"
     ]
    },
    {
     "data": {
      "application/vnd.jupyter.widget-view+json": {
       "model_id": "b4d77dbf54ef468bbb86bafdfa7b6076",
       "version_major": 2,
       "version_minor": 0
      },
      "text/plain": [
       "HBox(children=(IntProgress(value=0, max=72), HTML(value='')))"
      ]
     },
     "metadata": {},
     "output_type": "display_data"
    },
    {
     "name": "stdout",
     "output_type": "stream",
     "text": [
      "\n",
      "{'train_acc': 0.8611031994683376, 'val_acc': 0.6904015949871831, 'test_acc': 0.6461538461538462, 'params': {'boosting_type': 'gbdt', 'class_weight': 'balanced', 'colsample_bytree': 1.0, 'importance_type': 'split', 'learning_rate': 0.005, 'max_depth': -1, 'min_child_samples': 20, 'min_child_weight': 0.001, 'min_split_gain': 0.0, 'n_estimators': 50, 'n_jobs': -1, 'num_leaves': 16, 'objective': 'binary', 'random_state': 1234, 'reg_alpha': 1, 'reg_lambda': 0, 'silent': True, 'subsample': 1.0, 'subsample_for_bin': 200000, 'subsample_freq': 0}}\n"
     ]
    }
   ],
   "source": [
    "i = 0\n",
    "log = []\n",
    "\n",
    "gridParams = {\n",
    "    'n_estimators': [50, 150],\n",
    "    'num_leaves': [6, 8, 16],\n",
    "    'boosting_type' : ['gbdt'],\n",
    "    'objective' : ['binary'],\n",
    "    'random_state' : [RANDOM_STATE],\n",
    "    'reg_alpha' : [0, 1],\n",
    "    'reg_lambda' : [0, 1],\n",
    "    'class_weight': ['balanced'],\n",
    "    'learning_rate': [0.005, 0.001, 0.01]\n",
    "    }\n",
    "\n",
    "kf = KFold(n_splits=5, random_state=RANDOM_STATE, shuffle=False)\n",
    "for ind_train, ind_test in kf.split(X):\n",
    "    i += 1\n",
    "    X_train, X_val, y_train, y_val = train_test_split(X.iloc[ind_train], y.iloc[ind_train], test_size=0.25, shuffle=False)\n",
    "    X_test = X.iloc[ind_test]\n",
    "    y_test = y.iloc[ind_test]    \n",
    "    print(\"Fold %d\" % i)\n",
    "    \n",
    "    best_params = None\n",
    "    best_train_acc = 0\n",
    "    best_val_acc = 0\n",
    "    \n",
    "    for params in tqdm(ParameterGrid(gridParams)):\n",
    "        model = lgb.LGBMClassifier(**params)\n",
    "        model.fit(X_train, y_train, eval_set=(X_val, y_val), early_stopping_rounds=30, verbose=False)\n",
    "        train_acc = accuracy_score(y_train, model.predict(X_train))\n",
    "        val_acc = accuracy_score(y_val, model.predict(X_val))\n",
    "        test_acc = accuracy_score(y_test, model.predict(X_test))\n",
    "        if val_acc > best_val_acc:\n",
    "            best_params = model.get_params()\n",
    "            best_train_acc = train_acc\n",
    "            best_val_acc = val_acc\n",
    "    X_train = X.iloc[ind_train]\n",
    "    y_train = y.iloc[ind_train]\n",
    "    model = lgb.LGBMClassifier(**best_params)\n",
    "    model.fit(X_train, y_train, eval_set=(X_train, y_train), early_stopping_rounds=30, verbose=False)\n",
    "    test_acc = accuracy_score(y_test, model.predict(X_test))\n",
    "    log.append({ 'train_acc': best_train_acc,\n",
    "                'val_acc': best_val_acc,\n",
    "                'test_acc': test_acc,\n",
    "                'params': best_params        \n",
    "    })\n",
    "    print(log[-1])"
   ]
  },
  {
   "cell_type": "code",
   "execution_count": 11,
   "metadata": {},
   "outputs": [
    {
     "data": {
      "image/png": "[encoded data removed]",
      "text/plain": [
       "<Figure size 576x432 with 1 Axes>"
      ]
     },
     "metadata": {
      "needs_background": "light"
     },
     "output_type": "display_data"
    },
    {
     "data": {
      "image/png": "[encoded data removed]",
      "text/plain": [
       "<Figure size 576x432 with 1 Axes>"
      ]
     },
     "metadata": {
      "needs_background": "light"
     },
     "output_type": "display_data"
    },
    {
     "data": {
      "image/png": "[encoded data removed]",
      "text/plain": [
       "<Figure size 576x432 with 1 Axes>"
      ]
     },
     "metadata": {
      "needs_background": "light"
     },
     "output_type": "display_data"
    }
   ],
   "source": [
    "X_train, X_test, y_train, y_test = train_test_split(X, y, test_size=0.2, shuffle=False)\n",
    "X_train, X_val, y_train, y_val = train_test_split(X_train, y_train, test_size=0.2, shuffle=False)\n",
    "\n",
    "plt.hist(y_train, bins=2)\n",
    "plt.title(\"train\")\n",
    "plt.show()\n",
    "plt.hist(y_val, bins=2)\n",
    "plt.title('val')\n",
    "plt.show()\n",
    "plt.hist(y_test, bins=2)\n",
    "plt.title('test')\n",
    "plt.show()"
   ]
  },
  {
   "cell_type": "code",
   "execution_count": 12,
   "metadata": {
    "scrolled": true
   },
   "outputs": [
    {
     "name": "stdout",
     "output_type": "stream",
     "text": [
      "[1]\tvalid_0's binary_logloss: 0.672841\n",
      "Training until validation scores don't improve for 30 rounds.\n",
      "[2]\tvalid_0's binary_logloss: 0.694184\n",
      "[3]\tvalid_0's binary_logloss: 0.683584\n",
      "[4]\tvalid_0's binary_logloss: 0.673944\n",
      "[5]\tvalid_0's binary_logloss: 0.670293\n",
      "[6]\tvalid_0's binary_logloss: 0.66129\n",
      "[7]\tvalid_0's binary_logloss: 0.668085\n",
      "[8]\tvalid_0's binary_logloss: 0.670023\n",
      "[9]\tvalid_0's binary_logloss: 0.675764\n",
      "[10]\tvalid_0's binary_logloss: 0.68043\n",
      "[11]\tvalid_0's binary_logloss: 0.687678\n",
      "[12]\tvalid_0's binary_logloss: 0.696679\n",
      "[13]\tvalid_0's binary_logloss: 0.707079\n",
      "[14]\tvalid_0's binary_logloss: 0.708723\n",
      "[15]\tvalid_0's binary_logloss: 0.710306\n",
      "[16]\tvalid_0's binary_logloss: 0.724012\n",
      "[17]\tvalid_0's binary_logloss: 0.73369\n",
      "[18]\tvalid_0's binary_logloss: 0.74108\n",
      "[19]\tvalid_0's binary_logloss: 0.737038\n",
      "[20]\tvalid_0's binary_logloss: 0.737035\n",
      "[21]\tvalid_0's binary_logloss: 0.724652\n",
      "[22]\tvalid_0's binary_logloss: 0.739653\n",
      "[23]\tvalid_0's binary_logloss: 0.758552\n",
      "[24]\tvalid_0's binary_logloss: 0.765331\n",
      "[25]\tvalid_0's binary_logloss: 0.760814\n",
      "[26]\tvalid_0's binary_logloss: 0.766136\n",
      "[27]\tvalid_0's binary_logloss: 0.770279\n",
      "[28]\tvalid_0's binary_logloss: 0.772805\n",
      "[29]\tvalid_0's binary_logloss: 0.78212\n",
      "[30]\tvalid_0's binary_logloss: 0.787159\n",
      "[31]\tvalid_0's binary_logloss: 0.793388\n",
      "[32]\tvalid_0's binary_logloss: 0.803286\n",
      "[33]\tvalid_0's binary_logloss: 0.806649\n",
      "[34]\tvalid_0's binary_logloss: 0.805175\n",
      "[35]\tvalid_0's binary_logloss: 0.795091\n",
      "[36]\tvalid_0's binary_logloss: 0.807371\n",
      "Early stopping, best iteration is:\n",
      "[6]\tvalid_0's binary_logloss: 0.66129\n"
     ]
    },
    {
     "data": {
      "text/plain": [
       "LGBMClassifier(boosting_type='gbdt', class_weight='balanced',\n",
       "        colsample_bytree=1.0, importance_type='split', learning_rate=0.1,\n",
       "        max_depth=-1, min_child_samples=20, min_child_weight=0.001,\n",
       "        min_split_gain=0.0, n_estimators=150, n_jobs=-1, num_leaves=16,\n",
       "        objective='binary', random_state=1234, reg_alpha=0.0, reg_lambda=1,\n",
       "        silent=True, subsample=1.0, subsample_for_bin=200000,\n",
       "        subsample_freq=0)"
      ]
     },
     "execution_count": 12,
     "metadata": {},
     "output_type": "execute_result"
    }
   ],
   "source": [
    "model = lgb.LGBMClassifier(class_weight='balanced', objective='binary', \n",
    "                           n_estimators=150, num_leaves=16, random_state=RANDOM_STATE, reg_lambda=1)\n",
    "model.fit(X_train, y_train, eval_set=(X_val, y_val), early_stopping_rounds=30)"
   ]
  },
  {
   "cell_type": "code",
   "execution_count": null,
   "metadata": {},
   "outputs": [],
   "source": [
    "print(\"Train acc:\", accuracy_score(y_train, model.predict(X_train)))\n",
    "print(\"Valid acc:\", accuracy_score(y_val, model.predict(X_val)))\n",
    "print(\"Test acc:\", accuracy_score(y_test, model.predict(X_test)))"
   ]
  },
  {
   "cell_type": "code",
   "execution_count": null,
   "metadata": {},
   "outputs": [],
   "source": [
    "plt.figure(figsize=(20, 5))\n",
    "plt.plot(model.predict(X_test), color='blue')\n",
    "plt.show()\n",
    "plt.figure(figsize=(20, 5))\n",
    "plt.plot(y_test, color='red')\n",
    "plt.show()"
   ]
  }
 ],
 "metadata": {
  "kernelspec": {
   "display_name": "Python 3",
   "language": "python",
   "name": "python3"
  },
  "language_info": {
   "codemirror_mode": {
    "name": "ipython",
    "version": 3
   },
   "file_extension": ".py",
   "mimetype": "text/x-python",
   "name": "python",
   "nbconvert_exporter": "python",
   "pygments_lexer": "ipython3",
   "version": "3.7.0"
  }
 },
 "nbformat": 4,
 "nbformat_minor": 2
}
